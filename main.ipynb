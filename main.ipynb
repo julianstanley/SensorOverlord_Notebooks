{
 "cells": [
  {
   "cell_type": "code",
   "execution_count": 26,
   "metadata": {},
   "outputs": [],
   "source": [
    "shh <- suppressPackageStartupMessages\n",
    "\n",
    "library(sensorOverlord)\n",
    "library(repr)\n",
    "shh(library(ggpubr))\n",
    "theme_set(theme_pubr())"
   ]
  },
  {
   "cell_type": "code",
   "execution_count": 27,
   "metadata": {
    "collapsed": true
   },
   "outputs": [],
   "source": [
    "rogfp1_data <- read.table(\"data/rogfp1.csv\", header = FALSE, sep = \",\")"
   ]
  },
  {
   "cell_type": "code",
   "execution_count": 28,
   "metadata": {
    "collapsed": true
   },
   "outputs": [],
   "source": [
    "rogfp1_spectra <- spectraMatrixFromValues(lambdas_maximum = rogfp1_data$V1,\n",
    "                                         values_maximum = rogfp1_data$V2,\n",
    "                                          lambdas_minimum = rogfp1_data$V3, \n",
    "                                        values_minimum = rogfp1_data$V4)"
   ]
  },
  {
   "cell_type": "code",
   "execution_count": 29,
   "metadata": {},
   "outputs": [
    {
     "data": {
      "image/png": "[encoded data removed]",
      "text/plain": [
       "plot without title"
      ]
     },
     "metadata": {},
     "output_type": "display_data"
    }
   ],
   "source": [
    "options(repr.plot.width = 4, repr.plot.height = 4)\n",
    "plotSpectra(rogfp1_spectra, minimum_name = \"Reduced\", maximum_name = \"Oxidized\")"
   ]
  },
  {
   "cell_type": "code",
   "execution_count": 30,
   "metadata": {},
   "outputs": [],
   "source": [
    "rogfp1_sensor <- new(\"redoxSensor\", \n",
    "                     newSensorFromSpectra(rogfp1_spectra, lambda_1 = c(400, 420), lambda_2 = c(460, 480)), \n",
    "                     e0 = -281)"
   ]
  },
  {
   "cell_type": "code",
   "execution_count": 31,
   "metadata": {},
   "outputs": [
    {
     "data": {
      "image/png": "[encoded data removed]",
      "text/plain": [
       "plot without title"
      ]
     },
     "metadata": {},
     "output_type": "display_data"
    }
   ],
   "source": [
    "plotFractionMax(rogfp1_sensor)"
   ]
  },
  {
   "cell_type": "code",
   "execution_count": 32,
   "metadata": {},
   "outputs": [
    {
     "data": {
      "image/png": "[encoded data removed]",
      "text/plain": [
       "plot without title"
      ]
     },
     "metadata": {},
     "output_type": "display_data"
    }
   ],
   "source": [
    "plotE(rogfp1_sensor)"
   ]
  }
 ],
 "metadata": {
  "kernelspec": {
   "display_name": "R",
   "language": "R",
   "name": "ir"
  },
  "language_info": {
   "codemirror_mode": "r",
   "file_extension": ".r",
   "mimetype": "text/x-r-source",
   "name": "R",
   "pygments_lexer": "r",
   "version": "3.5.2"
  }
 },
 "nbformat": 4,
 "nbformat_minor": 2
}
